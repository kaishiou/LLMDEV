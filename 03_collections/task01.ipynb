{
 "cells": [
  {
   "cell_type": "code",
   "execution_count": 1,
   "id": "b4765525",
   "metadata": {},
   "outputs": [
    {
     "name": "stdout",
     "output_type": "stream",
     "text": [
      "平均点: 86.6\n",
      "最高点: 92\n",
      "最低点: 78\n",
      "平均以上の学生数: 3\n"
     ]
    }
   ],
   "source": [
    "# 成績リスト（指示された値を使用）\n",
    "grades = [85, 90, 78, 92, 88]\n",
    "\n",
    "# 平均・最大・最小\n",
    "avg = sum(grades) / len(grades)\n",
    "highest = max(grades)\n",
    "lowest = min(grades)\n",
    "\n",
    "# 平均以上の人数をカウント（平均は丸めずに比較）\n",
    "count_ge_avg = sum(1 for g in grades if g >= avg)\n",
    "\n",
    "# 結果の出力（平均は小数1桁表示）\n",
    "print(f\"平均点: {avg:.1f}\")\n",
    "print(f\"最高点: {highest}\")\n",
    "print(f\"最低点: {lowest}\")\n",
    "print(f\"平均以上の学生数: {count_ge_avg}\")\n"
   ]
  }
 ],
 "metadata": {
  "kernelspec": {
   "display_name": ".venv",
   "language": "python",
   "name": "python3"
  },
  "language_info": {
   "codemirror_mode": {
    "name": "ipython",
    "version": 3
   },
   "file_extension": ".py",
   "mimetype": "text/x-python",
   "name": "python",
   "nbconvert_exporter": "python",
   "pygments_lexer": "ipython3",
   "version": "3.12.11"
  }
 },
 "nbformat": 4,
 "nbformat_minor": 5
}
