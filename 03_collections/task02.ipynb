{
 "cells": [
  {
   "cell_type": "code",
   "execution_count": 1,
   "id": "41c8d405",
   "metadata": {},
   "outputs": [
    {
     "name": "stdout",
     "output_type": "stream",
     "text": [
      "入力した英単語：['apple', 'grape', 'orange', 'pear']\n",
      "aが4個ありました\n",
      "eが4個ありました\n",
      "gが2個ありました\n",
      "lが1個ありました\n",
      "nが1個ありました\n",
      "oが1個ありました\n",
      "pが4個ありました\n",
      "rが3個ありました\n"
     ]
    }
   ],
   "source": [
    "# 英単語を格納するリスト\n",
    "words = []\n",
    "\n",
    "# アルファベットの出現回数を管理する辞書\n",
    "counts = {chr(c): 0 for c in range(ord('a'), ord('z')+1)}\n",
    "\n",
    "# 入力受付ループ\n",
    "while True:\n",
    "    word = input(\"英単語を入力してください：\")\n",
    "    if word == \"\":\n",
    "        break\n",
    "    words.append(word)\n",
    "    # 各文字をカウント\n",
    "    for ch in word.lower():  # 小文字に変換して数える\n",
    "        if ch in counts:\n",
    "            counts[ch] += 1\n",
    "\n",
    "# 英単語リストをABC順に並べ替え\n",
    "words.sort()\n",
    "\n",
    "# 入力した英単語の表示\n",
    "print(f\"入力した英単語：{words}\")\n",
    "\n",
    "# 出現したアルファベットの表示\n",
    "for letter, count in counts.items():\n",
    "    if count > 0:\n",
    "        print(f\"{letter}が{count}個ありました\")\n"
   ]
  }
 ],
 "metadata": {
  "kernelspec": {
   "display_name": ".venv",
   "language": "python",
   "name": "python3"
  },
  "language_info": {
   "codemirror_mode": {
    "name": "ipython",
    "version": 3
   },
   "file_extension": ".py",
   "mimetype": "text/x-python",
   "name": "python",
   "nbconvert_exporter": "python",
   "pygments_lexer": "ipython3",
   "version": "3.12.11"
  }
 },
 "nbformat": 4,
 "nbformat_minor": 5
}
