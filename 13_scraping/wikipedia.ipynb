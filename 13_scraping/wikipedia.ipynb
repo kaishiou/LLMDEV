{
 "cells": [
  {
   "cell_type": "code",
   "execution_count": null,
   "id": "27365d4e",
   "metadata": {},
   "outputs": [],
   "source": [
    "import requests\n",
    "\n",
    "# Wikipedia日本語版のAPIエンドポイント\n",
    "WIKI_API_URL = \"https://ja.wikipedia.org/w/api.php\"\n",
    "\n",
    "# 検索キーワードに該当するWikipediaページを取得する関数\n",
    "def fetch_search_results(keyword, limit=10):\n",
    "    params = {\n",
    "        \"action\": \"query\",\n",
    "        \"list\": \"search\",\n",
    "        \"srsearch\": keyword,\n",
    "        \"format\": \"json\",\n",
    "        \"srlimit\": limit\n",
    "    }\n",
    "\n",
    "    try:\n",
    "        response = requests.get(WIKI_API_URL, params=params)\n",
    "        response.raise_for_status()\n",
    "        data = response.json()\n",
    "        return data.get(\"query\", {}).get(\"search\", [])\n",
    "    except requests.RequestException as e:\n",
    "        print(\"検索リクエストでエラーが発生しました:\", e)\n",
    "        return []\n",
    "\n",
    "# 指定されたタイトルのページ内容を取得する関数\n",
    "def fetch_page_content(title):\n",
    "    params = {\n",
    "        \"action\": \"query\",\n",
    "        \"format\": \"json\",\n",
    "        \"titles\": title,\n",
    "        \"prop\": \"extracts\",\n",
    "        \"explaintext\": True\n",
    "    }\n",
    "\n",
    "    try:\n",
    "        response = requests.get(WIKI_API_URL, params=params)\n",
    "        response.raise_for_status()\n",
    "        data = response.json()\n",
    "        page = next(iter(data.get(\"query\", {}).get(\"pages\", {}).values()), {})\n",
    "        return page.get(\"extract\", \"ページ内容が見つかりません。\")\n",
    "    except requests.RequestException as e:\n",
    "        print(\"ページ内容取得でエラーが発生しました:\", e)\n",
    "        return \"ページ内容が取得できませんでした。\""
   ]
  }
 ],
 "metadata": {
  "language_info": {
   "name": "python"
  }
 },
 "nbformat": 4,
 "nbformat_minor": 5
}
