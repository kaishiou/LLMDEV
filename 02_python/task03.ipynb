{
 "cells": [
  {
   "cell_type": "code",
   "execution_count": 1,
   "id": "d49b00af",
   "metadata": {},
   "outputs": [
    {
     "name": "stdout",
     "output_type": "stream",
     "text": [
      "10年後の金額: 23673.64\n"
     ]
    }
   ],
   "source": [
    "# 元金と年利を入力\n",
    "principal = float(input(\"元金を入力してください: \"))\n",
    "rate = float(input(\"年利を入力してください: \"))\n",
    "\n",
    "# 複利計算（10年間）\n",
    "for year in range(10):\n",
    "    principal *= (1 + rate / 100)\n",
    "\n",
    "# 結果の出力（小数点以下2桁まで表示）\n",
    "print(f\"10年後の金額: {principal:.2f}\")\n"
   ]
  }
 ],
 "metadata": {
  "kernelspec": {
   "display_name": ".venv",
   "language": "python",
   "name": "python3"
  },
  "language_info": {
   "codemirror_mode": {
    "name": "ipython",
    "version": 3
   },
   "file_extension": ".py",
   "mimetype": "text/x-python",
   "name": "python",
   "nbconvert_exporter": "python",
   "pygments_lexer": "ipython3",
   "version": "3.12.11"
  }
 },
 "nbformat": 4,
 "nbformat_minor": 5
}
