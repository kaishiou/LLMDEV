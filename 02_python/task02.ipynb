{
 "cells": [
  {
   "cell_type": "code",
   "execution_count": 1,
   "id": "2d52194a",
   "metadata": {},
   "outputs": [
    {
     "name": "stdout",
     "output_type": "stream",
     "text": [
      "送料は350円です\n",
      "送料込税込価格は1400円です\n"
     ]
    }
   ],
   "source": [
    "# 税抜価格を入力\n",
    "price_ex = int(input(\"税抜価格を入力してください: \"))\n",
    "\n",
    "# 税込価格を計算（10%の消費税）\n",
    "price_in = int(price_ex * 1.1)\n",
    "\n",
    "# 送料の判定\n",
    "if price_in >= 2000:\n",
    "    shipping = 0\n",
    "    print(\"送料は無料です\")\n",
    "else:\n",
    "    shipping = 350\n",
    "    print(f\"送料は{shipping}円です\")\n",
    "\n",
    "# 送料込価格の計算\n",
    "total = price_in + shipping\n",
    "\n",
    "# 結果の表示\n",
    "print(f\"送料込税込価格は{total}円です\")\n"
   ]
  }
 ],
 "metadata": {
  "kernelspec": {
   "display_name": ".venv",
   "language": "python",
   "name": "python3"
  },
  "language_info": {
   "codemirror_mode": {
    "name": "ipython",
    "version": 3
   },
   "file_extension": ".py",
   "mimetype": "text/x-python",
   "name": "python",
   "nbconvert_exporter": "python",
   "pygments_lexer": "ipython3",
   "version": "3.12.11"
  }
 },
 "nbformat": 4,
 "nbformat_minor": 5
}
