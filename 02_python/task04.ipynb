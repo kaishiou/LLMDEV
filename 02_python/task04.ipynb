{
 "cells": [
  {
   "cell_type": "code",
   "execution_count": null,
   "id": "986da7f5",
   "metadata": {},
   "outputs": [],
   "source": [
    "try:\n",
    "    # 入力\n",
    "    num1 = float(input(\"1つ目の数を入力してください: \"))\n",
    "    num2 = float(input(\"2つ目の数を入力してください: \"))\n",
    "    \n",
    "    # 割り算\n",
    "    result = num1 / num2\n",
    "    \n",
    "except ValueError:\n",
    "    # 数値以外が入力された場合\n",
    "    print(\"エラー: 数値を入力してください\")\n",
    "    \n",
    "except ZeroDivisionError:\n",
    "    # 0で割った場合\n",
    "    print(\"エラー: 0で割ることはできません\")\n",
    "    \n",
    "else:\n",
    "    # 正常に計算できた場合\n",
    "    print(f\"計算結果: {result}\")"
   ]
  }
 ],
 "metadata": {
  "language_info": {
   "name": "python"
  }
 },
 "nbformat": 4,
 "nbformat_minor": 5
}
