{
 "cells": [
  {
   "cell_type": "code",
   "execution_count": 1,
   "id": "986da7f5",
   "metadata": {},
   "outputs": [
    {
     "name": "stdout",
     "output_type": "stream",
     "text": [
      "エラー: 0で割ることはできません\n"
     ]
    }
   ],
   "source": [
    "try:\n",
    "    # 入力\n",
    "    num1 = float(input(\"1つ目の数を入力してください: \"))\n",
    "    num2 = float(input(\"2つ目の数を入力してください: \"))\n",
    "    \n",
    "    # 割り算\n",
    "    result = num1 / num2\n",
    "    \n",
    "except ValueError:\n",
    "    # 数値以外が入力された場合\n",
    "    print(\"エラー: 数値を入力してください\")\n",
    "    \n",
    "except ZeroDivisionError:\n",
    "    # 0で割った場合\n",
    "    print(\"エラー: 0で割ることはできません\")\n",
    "    \n",
    "else:\n",
    "    # 正常に計算できた場合\n",
    "    print(f\"計算結果: {result}\")"
   ]
  }
 ],
 "metadata": {
  "kernelspec": {
   "display_name": ".venv",
   "language": "python",
   "name": "python3"
  },
  "language_info": {
   "codemirror_mode": {
    "name": "ipython",
    "version": 3
   },
   "file_extension": ".py",
   "mimetype": "text/x-python",
   "name": "python",
   "nbconvert_exporter": "python",
   "pygments_lexer": "ipython3",
   "version": "3.12.11"
  }
 },
 "nbformat": 4,
 "nbformat_minor": 5
}
