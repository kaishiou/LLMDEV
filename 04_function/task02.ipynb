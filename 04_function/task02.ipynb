{
 "cells": [
  {
   "cell_type": "code",
   "execution_count": 1,
   "id": "d7e46046",
   "metadata": {},
   "outputs": [
    {
     "name": "stdout",
     "output_type": "stream",
     "text": [
      "Content saved in: 20250825_141658.txt\n"
     ]
    }
   ],
   "source": [
    "from urllib.request import urlopen\n",
    "from datetime import datetime\n",
    "\n",
    "def save_url_content(url: str) -> str:\n",
    "    \"\"\"\n",
    "    指定URLのHTMLコンテンツを取得し、UTF-8でデコードした先頭500文字を\n",
    "    現在日時(YYYYMMDD_HHMMSS).txt のファイル名で保存して、そのファイル名を返す。\n",
    "    \"\"\"\n",
    "    # データ取得（バイト列）\n",
    "    with urlopen(url) as resp:\n",
    "        data = resp.read()\n",
    "    # UTF-8でデコード（デコードできない文字は無視）\n",
    "    text = data.decode(\"utf-8\", errors=\"ignore\")\n",
    "    head500 = text[:500]\n",
    "\n",
    "    # ファイル名を日時で作成\n",
    "    file_name = datetime.now().strftime(\"%Y%m%d_%H%M%S\") + \".txt\"\n",
    "\n",
    "    # 保存（UTF-8）\n",
    "    with open(file_name, \"w\", encoding=\"utf-8\") as f:\n",
    "        f.write(head500)\n",
    "\n",
    "    return file_name\n",
    "\n",
    "\n",
    "# 呼び出し側（仕様の通り）\n",
    "url = input(\"URLを入力してください: \")\n",
    "file_name = save_url_content(url)\n",
    "print(f\"Content saved in: {file_name}\")\n"
   ]
  }
 ],
 "metadata": {
  "kernelspec": {
   "display_name": ".venv",
   "language": "python",
   "name": "python3"
  },
  "language_info": {
   "codemirror_mode": {
    "name": "ipython",
    "version": 3
   },
   "file_extension": ".py",
   "mimetype": "text/x-python",
   "name": "python",
   "nbconvert_exporter": "python",
   "pygments_lexer": "ipython3",
   "version": "3.12.11"
  }
 },
 "nbformat": 4,
 "nbformat_minor": 5
}
