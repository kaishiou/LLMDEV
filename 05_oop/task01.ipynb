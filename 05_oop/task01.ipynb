{
 "cells": [
  {
   "cell_type": "code",
   "execution_count": 1,
   "id": "a8388840",
   "metadata": {},
   "outputs": [
    {
     "name": "stdout",
     "output_type": "stream",
     "text": [
      "1300\n",
      "エラー: 残高不足または無効な金額です\n"
     ]
    }
   ],
   "source": [
    "class BankAccount:\n",
    "    def __init__(self, initial_balance: int):\n",
    "        # 外部から直接アクセスできないように __balance にする\n",
    "        self.__balance = initial_balance\n",
    "\n",
    "    def deposit(self, amount: int):\n",
    "        \"\"\"預け入れメソッド\"\"\"\n",
    "        if amount <= 0:\n",
    "            print(\"エラー: 正しい金額を入力してください\")\n",
    "            return\n",
    "        self.__balance += amount\n",
    "\n",
    "    def withdraw(self, amount: int):\n",
    "        \"\"\"引き出しメソッド\"\"\"\n",
    "        if amount <= 0 or amount > self.__balance:\n",
    "            print(\"エラー: 残高不足または無効な金額です\")\n",
    "            return\n",
    "        self.__balance -= amount\n",
    "\n",
    "    def get_balance(self) -> int:\n",
    "        \"\"\"現在の残高を返す\"\"\"\n",
    "        return self.__balance\n",
    "\n",
    "\n",
    "# 呼び出し側\n",
    "\n",
    "# 初期残高1000円で口座作成\n",
    "account = BankAccount(1000)\n",
    "\n",
    "# 500円を預け入れ\n",
    "account.deposit(500)\n",
    "\n",
    "# 200円を引き出し\n",
    "account.withdraw(200)\n",
    "\n",
    "# 現在の残高を表示（1300）\n",
    "print(account.get_balance())\n",
    "\n",
    "# 1500円を引き出そうとする（エラー）\n",
    "account.withdraw(1500)\n"
   ]
  }
 ],
 "metadata": {
  "kernelspec": {
   "display_name": ".venv",
   "language": "python",
   "name": "python3"
  },
  "language_info": {
   "codemirror_mode": {
    "name": "ipython",
    "version": 3
   },
   "file_extension": ".py",
   "mimetype": "text/x-python",
   "name": "python",
   "nbconvert_exporter": "python",
   "pygments_lexer": "ipython3",
   "version": "3.12.11"
  }
 },
 "nbformat": 4,
 "nbformat_minor": 5
}
