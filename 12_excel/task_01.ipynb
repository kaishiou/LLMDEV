{
 "cells": [
  {
   "cell_type": "code",
   "execution_count": null,
   "id": "0fad59e1",
   "metadata": {},
   "outputs": [],
   "source": [
    "import pandas as pd\n",
    "import json\n",
    "from openai import OpenAI   \n",
    "\n",
    "# OpenAIクライアントの初期化\n",
    "print(\"処理を開始します。\")\n",
    "\n",
    "# 1. Excelファイルを読み込む\n",
    "df = pd.read_excel('サンプルデータ.xlsx', sheet_name='商品名')\n",
    "\n",
    "# 2. データをLLM用にテキスト形式に変換\n",
    "product_data_text = df.astype(str)\n",
    "prompt_text = f\"\"\"\n",
    "次の商品名のリストから、似た名前の商品をグループ化し、グループごとに統一した商品名「product_name」を提案し、グループに属する商品名をカンマ区切りで並べた文字列「products」を作成し、「product_nameとproductsのリスト」で構成されるJSONデータ「product_data」を出力してください。\n",
    "{product_data_text}\n",
    "\"\"\"\n",
    "\n",
    "# 3. OpenAI APIの呼び出し\n",
    "response = client.chat.completions.create(\n",
    "    model=MODEL_NAME,\n",
    "    messages=[\n",
    "        {\"role\": \"user\", \"content\": prompt_text},\n",
    "    ],\n",
    "    tools=tools,\n",
    "    tool_choice={\n",
    "        \"type\":\"function\",\n",
    "        \"function\":{\"name\":\"get_products\"}\n",
    "    },\n",
    "    response_format={\"type\":\"json_object\"}\n",
    ")\n",
    "\n",
    "# 4. 分析結果をJSONオブジェクトに変換\n",
    "# ツール呼出情報を取得\n",
    "tool = response.choices[0].message.tool_calls[0]\n",
    "# JSONオブジェクトに変換\n",
    "data = json.loads(tool.function.arguments)\n",
    "\n",
    "# データフレームに変換\n",
    "df_out = pd.DataFrame(data['product_data'])\n",
    "\n",
    "# 5. 結果をExcelファイルに保存\n",
    "df_out.to_excel(\"商品名グループ化結果.xlsx\", index=False)\n",
    "\n",
    "print(\"Excelファイルに処理結果を保存しました。\")"
   ]
  }
 ],
 "metadata": {
  "language_info": {
   "name": "python"
  }
 },
 "nbformat": 4,
 "nbformat_minor": 5
}
