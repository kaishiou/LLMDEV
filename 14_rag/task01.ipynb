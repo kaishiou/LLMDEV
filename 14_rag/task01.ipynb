{
 "cells": [
  {
   "cell_type": "code",
   "execution_count": null,
   "id": "fdbd4a65",
   "metadata": {},
   "outputs": [
    {
     "name": "stderr",
     "output_type": "stream",
     "text": [
      "2025-09-10 17:42:05,989 - INFO - HTTP Request: POST https://api.openai.com/v1/embeddings \"HTTP/1.1 200 OK\"\n"
     ]
    },
    {
     "data": {
      "text/plain": [
       "'質問:Where is Joseph graduated from?'"
      ]
     },
     "metadata": {},
     "output_type": "display_data"
    },
    {
     "name": "stderr",
     "output_type": "stream",
     "text": [
      "2025-09-10 17:42:19,416 - INFO - Condensed question: Where is Joseph graduated from?\n",
      "2025-09-10 17:42:20,478 - INFO - HTTP Request: POST https://api.openai.com/v1/embeddings \"HTTP/1.1 200 OK\"\n",
      "2025-09-10 17:42:21,391 - INFO - HTTP Request: POST https://api.openai.com/v1/chat/completions \"HTTP/1.1 200 OK\"\n"
     ]
    },
    {
     "name": "stdout",
     "output_type": "stream",
     "text": [
      "\n",
      "🧠 回答:\n",
      "Joseph graduated from Peking University.\n",
      "\n",
      "🔎 参照ソース:\n",
      "[1] test.txt (score: 0.823): Joseph is a student graduated from Peking Unniversity.\n",
      "\n",
      "---ご利用ありがとうございました！---\n"
     ]
    }
   ],
   "source": [
    "# 必要なモジュールをインポート\n",
    "import os\n",
    "from dotenv import load_dotenv\n",
    "from llama_index.core import VectorStoreIndex, SimpleDirectoryReader\n",
    "from llama_index.llms.openai import OpenAI\n",
    "\n",
    "# 環境変数の取得\n",
    "load_dotenv(\"../.env\")\n",
    "os.environ['OPENAI_API_KEY']  = os.environ['API_KEY']\n",
    "\n",
    "# モデル名\n",
    "MODEL_NAME = \"gpt-4o-mini\"\n",
    "\n",
    "# Indexの構築\n",
    "documents = SimpleDirectoryReader('./data/text').load_data()\n",
    "index = VectorStoreIndex.from_documents(documents)\n",
    "\n",
    "# Chat Engineの作成\n",
    "llm = OpenAI(model=MODEL_NAME)\n",
    "chat_engine = index.as_chat_engine(llm=llm)\n",
    "\n",
    "# チャットの開始\n",
    "while(True):\n",
    "    message = input(\"メッセージを入力:\")\n",
    "    if message.strip()==\"\":\n",
    "        break\n",
    "    display(f\"質問:{message}\")\n",
    "\n",
    "    # 質問（以下にソースコードを記述）\n",
    "    try:\n",
    "        # 通常のチャット呼び出し\n",
    "        response = chat_engine.chat(message)\n",
    "    except Exception as e:\n",
    "        print(f\"エラーが発生しました: {e}\")\n",
    "        continue\n",
    "\n",
    "    # 回答を表示（以下にソースコードを記述）\n",
    "    try:\n",
    "        # 回答本文\n",
    "        print(\"\\n 回答:\")\n",
    "        print(response.response if hasattr(response, \"response\") else str(response))\n",
    "\n",
    "        # 参照ソース（あれば表示）\n",
    "        source_nodes = getattr(response, \"source_nodes\", None)\n",
    "        if source_nodes:\n",
    "            print(\"\\n🔎 参照ソース:\")\n",
    "            for i, node in enumerate(source_nodes, 1):\n",
    "                meta = getattr(node, \"metadata\", {}) or {}\n",
    "                title = meta.get(\"file_name\") or meta.get(\"document_id\") or meta.get(\"source\") or \"Untitled\"\n",
    "                score = getattr(node, \"score\", None)\n",
    "                score_str = f\" (score: {score:.3f})\" if isinstance(score, (int, float)) else \"\"\n",
    "                text = (node.get_text() or \"\").strip().replace(\"\\n\", \" \")\n",
    "                if len(text) > 200:\n",
    "                    text = text[:200] + \"...\"\n",
    "                print(f\"[{i}] {title}{score_str}: {text}\")\n",
    "\n",
    "    except Exception as e:\n",
    "        print(f\"出力時にエラーが発生しました: {e}\")\n",
    "\n",
    "print(\"\\n---ご利用ありがとうございました！---\")"
   ]
  }
 ],
 "metadata": {
  "kernelspec": {
   "display_name": ".venv",
   "language": "python",
   "name": "python3"
  },
  "language_info": {
   "codemirror_mode": {
    "name": "ipython",
    "version": 3
   },
   "file_extension": ".py",
   "mimetype": "text/x-python",
   "name": "python",
   "nbconvert_exporter": "python",
   "pygments_lexer": "ipython3",
   "version": "3.12.11"
  }
 },
 "nbformat": 4,
 "nbformat_minor": 5
}
