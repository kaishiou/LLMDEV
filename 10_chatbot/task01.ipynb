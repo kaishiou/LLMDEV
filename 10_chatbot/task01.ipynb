{
 "cells": [
  {
   "cell_type": "code",
   "execution_count": null,
   "id": "55c33ca5",
   "metadata": {},
   "outputs": [
    {
     "ename": "NameError",
     "evalue": "name 'os' is not defined",
     "output_type": "error",
     "traceback": [
      "\u001b[31m---------------------------------------------------------------------------\u001b[39m",
      "\u001b[31mNameError\u001b[39m                                 Traceback (most recent call last)",
      "\u001b[36mCell\u001b[39m\u001b[36m \u001b[39m\u001b[32mIn[5]\u001b[39m\u001b[32m, line 5\u001b[39m\n\u001b[32m      2\u001b[39m MODEL_NAME = \u001b[33m\"\u001b[39m\u001b[33mgpt-4o-mini\u001b[39m\u001b[33m\"\u001b[39m \n\u001b[32m      4\u001b[39m \u001b[38;5;66;03m# OpenAIクライアントの初期化\u001b[39;00m\n\u001b[32m----> \u001b[39m\u001b[32m5\u001b[39m client = OpenAI(api_key=\u001b[43mos\u001b[49m.environ[\u001b[33m\"\u001b[39m\u001b[33mOPENAI_API_KEY\u001b[39m\u001b[33m\"\u001b[39m])\n\u001b[32m      6\u001b[39m \u001b[38;5;66;03m# メッセージを格納するリスト\u001b[39;00m\n\u001b[32m      7\u001b[39m SYSTEM_PROMPT = \u001b[33m\"\"\"\u001b[39m\n\u001b[32m      8\u001b[39m \u001b[33mあなたは関西弁の頼れる先輩エンジニア『ミナト先輩』です。\u001b[39m\n\u001b[32m      9\u001b[39m \u001b[33m- 一人称は「私」。相手は「あなた」or「君」。\u001b[39m\n\u001b[32m   (...)\u001b[39m\u001b[32m     14\u001b[39m \u001b[33m- どのような長さの対話になっても、このキャラクターを維持すること。\u001b[39m\n\u001b[32m     15\u001b[39m \u001b[33m\"\"\"\u001b[39m\n",
      "\u001b[31mNameError\u001b[39m: name 'os' is not defined"
     ]
    }
   ],
   "source": [
    "from openai import OpenAI\n",
    "MODEL_NAME = \"gpt-4o-mini\" \n",
    "import os\n",
    "# OpenAIクライアントの初期化\n",
    "client = OpenAI(api_key=os.environ[\"OPENAI_API_KEY\"])\n",
    "# メッセージを格納するリスト\n",
    "SYSTEM_PROMPT = \"\"\"\n",
    "あなたは関西弁の頼れる先輩エンジニア『ミナト先輩』です。\n",
    "- 一人称は「私」。相手は「あなた」or「君」。\n",
    "- 口調はやさしくフレンドリー（例: 〜やで / 〜やね）。\n",
    "- 役割: 初学者を励ましつつ、手順を短く箇条書きで示す。必要ならコード例も提示。\n",
    "- 常に日本語で回答。絵文字は必要なときのみ1つまで。\n",
    "- 不確かな点は推測せず、正直に伝える。\n",
    "- どのような長さの対話になっても、このキャラクターを維持すること。\n",
    "\"\"\"\n",
    "\n",
    "messages = []\n",
    "MAX_TURNS = 8  # ユーザー↔アシスタントの「往復」上限。system はカウントしない。\n",
    "\n",
    "while True:\n",
    "    # ユーザーからの質問を受付\n",
    "    message = input(\"メッセージを入力:\")\n",
    "    # 質問が入力されなければ終了\n",
    "    if message.strip() == \"\":\n",
    "        break\n",
    "    print(f\"質問:{message}\")\n",
    "\n",
    "    # メッセージにユーザーからの質問を追加（履歴は system を含めない）\n",
    "    messages.append({\"role\": \"user\", \"content\": message.strip()})\n",
    "\n",
    "    # 直近 MAX_TURNS 往復（= 最大 2*MAX_TURNS 発話）に履歴を制限\n",
    "    trimmed_history = messages[-(MAX_TURNS * 2):]\n",
    "\n",
    "    # API へ渡す最終メッセージ列：必ず system を先頭に付与\n",
    "    request_messages = [{\"role\": \"system\", \"content\": SYSTEM_PROMPT}] + trimmed_history\n",
    "\n",
    "    # APIへリクエスト（streaming）\n",
    "    stream = client.chat.completions.create(\n",
    "        model=MODEL_NAME,\n",
    "        messages=request_messages,\n",
    "        stream=True,\n",
    "    )\n",
    "\n",
    "    # 言語モデルからの回答を表示\n",
    "    response_message = \"\"\n",
    "    for chunk in stream:\n",
    "        if chunk.choices:\n",
    "            nxt = chunk.choices[0].delta.content\n",
    "            if nxt is not None:\n",
    "                response_message += nxt\n",
    "                print(nxt, end='', flush=True)\n",
    "\n",
    "    # メッセージに言語モデルからの回答を追加（履歴には system を保存しない）\n",
    "    messages.append({\"role\": \"assistant\", \"content\": response_message})\n",
    "\n",
    "print(\"\\n---ご利用ありがとうございました！---\")"
   ]
  },
  {
   "cell_type": "code",
   "execution_count": null,
   "id": "2018c711",
   "metadata": {},
   "outputs": [],
   "source": []
  },
  {
   "cell_type": "code",
   "execution_count": null,
   "id": "6c5969ac",
   "metadata": {},
   "outputs": [],
   "source": []
  }
 ],
 "metadata": {
  "kernelspec": {
   "display_name": ".venv",
   "language": "python",
   "name": "python3"
  },
  "language_info": {
   "codemirror_mode": {
    "name": "ipython",
    "version": 3
   },
   "file_extension": ".py",
   "mimetype": "text/x-python",
   "name": "python",
   "nbconvert_exporter": "python",
   "pygments_lexer": "ipython3",
   "version": "3.12.11"
  }
 },
 "nbformat": 4,
 "nbformat_minor": 5
}
